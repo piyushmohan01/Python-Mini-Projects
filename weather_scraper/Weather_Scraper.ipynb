{
 "cells": [
  {
   "cell_type": "markdown",
   "metadata": {},
   "source": [
    "---\n",
    "## Web Scraper + Seaborb Visualizations"
   ]
  },
  {
   "cell_type": "markdown",
   "metadata": {},
   "source": [
    "### Link to scraping-site : https://bit.ly/3hkuADS\n",
    "---\n",
    "### Description :\n",
    "* Scraping the web using the BeautifulSoup Libray.\n",
    "* The scraped data is the weather forecast of New Delhi.\n",
    "* Data contains various parameters all scraped from the same site.\n",
    "* Running this notebook, collects all the info of the next 14 days.\n",
    "* After scraping, few more columns have been added for ease of use.\n",
    "* Once feature engineering is over, the data is visualized using Seaborn."
   ]
  },
  {
   "cell_type": "markdown",
   "metadata": {},
   "source": [
    "### Importing modules :"
   ]
  },
  {
   "cell_type": "code",
   "execution_count": 1,
   "metadata": {},
   "outputs": [
    {
     "name": "stdout",
     "output_type": "stream",
     "text": [
      "Importing Done!\n"
     ]
    }
   ],
   "source": [
    "import requests\n",
    "from bs4 import BeautifulSoup\n",
    "import pandas as pd\n",
    "import numpy as np\n",
    "import seaborn as sns\n",
    "import matplotlib.pyplot as plt\n",
    "%matplotlib inline\n",
    "sns.set_palette('turbo', n_colors=18)\n",
    "from datetime import datetime as dt\n",
    "import calendar as cl\n",
    "print('Importing Done!')"
   ]
  },
  {
   "cell_type": "markdown",
   "metadata": {},
   "source": [
    "### Linking site with soup :"
   ]
  },
  {
   "cell_type": "code",
   "execution_count": 2,
   "metadata": {},
   "outputs": [
    {
     "name": "stdout",
     "output_type": "stream",
     "text": [
      "<class 'bs4.BeautifulSoup'>\n"
     ]
    }
   ],
   "source": [
    "url='https://bit.ly/3hkuADS'\n",
    "page = requests.get(url)\n",
    "soup = BeautifulSoup(page.content, 'html.parser')\n",
    "print(type(soup))"
   ]
  },
  {
   "cell_type": "code",
   "execution_count": 3,
   "metadata": {},
   "outputs": [
    {
     "data": {
      "text/plain": [
       "[bs4.element.Doctype, bs4.element.Tag]"
      ]
     },
     "execution_count": 3,
     "metadata": {},
     "output_type": "execute_result"
    }
   ],
   "source": [
    "[type(item) for item in list(soup.children)]"
   ]
  },
  {
   "cell_type": "markdown",
   "metadata": {},
   "source": [
    "### Scraping Temperature separately :"
   ]
  },
  {
   "cell_type": "code",
   "execution_count": 4,
   "metadata": {},
   "outputs": [
    {
     "name": "stdout",
     "output_type": "stream",
     "text": [
      "Waiting for Mean!\n",
      "[37, 36, 38, 40, 39, 32, 32, 35, 35, 37, 39, 40, 40, 40, 40]\n"
     ]
    }
   ],
   "source": [
    "TempHighList = []\n",
    "\n",
    "spanListHigh = list(soup.find_all(class_='DetailsSummary--highTempValue--3x6cL'))\n",
    "for spanItemHigh in spanListHigh:\n",
    "    for spanTempHigh in spanItemHigh:\n",
    "        if spanTempHigh=='--':\n",
    "            print('Waiting for Mean!')\n",
    "        else:\n",
    "            TempHighList.append(int(spanTempHigh[:2]))\n",
    "s = 0   \n",
    "for x in TempHighList:\n",
    "    s += x\n",
    "    mean = s/len(TempHighList)\n",
    "TempHighList.insert(0,int(mean))\n",
    "print(TempHighList)"
   ]
  },
  {
   "cell_type": "code",
   "execution_count": 5,
   "metadata": {},
   "outputs": [
    {
     "name": "stdout",
     "output_type": "stream",
     "text": [
      "[24, 25, 27, 28, 29, 25, 25, 24, 26, 27, 27, 28, 27, 28, 28]\n"
     ]
    }
   ],
   "source": [
    "TempLowList = []\n",
    "\n",
    "spanListLow = list(soup.find_all(class_='DetailsSummary--lowTempValue--1DlJK'))\n",
    "for spanItemLow in spanListLow:\n",
    "    for spanTempLow in spanItemLow:\n",
    "        TempLowList.append(int(spanTempLow[:2]))\n",
    "\n",
    "print(TempLowList)"
   ]
  },
  {
   "cell_type": "markdown",
   "metadata": {},
   "source": [
    "### Scraping Days and Dates :"
   ]
  },
  {
   "cell_type": "code",
   "execution_count": 6,
   "metadata": {},
   "outputs": [
    {
     "name": "stdout",
     "output_type": "stream",
     "text": [
      "Tonight, Fri 14, Sat 15, Sun 16, Mon 17, Tue 18, Wed 19, Thu 20, Fri 21, Sat 22, Sun 23, Mon 24, Tue 25, Wed 26, Thu 27, "
     ]
    }
   ],
   "source": [
    "dayDate = []\n",
    "\n",
    "dayName = list(soup.find_all(class_='DetailsSummary--daypartName--1Mebr'))\n",
    "for dayItem in dayName:\n",
    "    for dayDetail in dayItem:\n",
    "        dayDate.append(dayDetail)\n",
    "for day in dayDate:\n",
    "    print(day, end=', ')"
   ]
  },
  {
   "cell_type": "markdown",
   "metadata": {},
   "source": [
    "### Converting 'Today' to required format :"
   ]
  },
  {
   "cell_type": "code",
   "execution_count": 7,
   "metadata": {},
   "outputs": [
    {
     "name": "stdout",
     "output_type": "stream",
     "text": [
      "Thu 13\n"
     ]
    }
   ],
   "source": [
    "today = dt.now().date()\n",
    "today_date = dt.now().day\n",
    "d = dt.strptime(str(today), '%Y-%m-%d').weekday()\n",
    "day_name = cl.day_name[d]\n",
    "short_day_name = day_name[:3]\n",
    "today_day_date = (short_day_name + ' ' + str(today_date))\n",
    "print(today_day_date)"
   ]
  },
  {
   "cell_type": "code",
   "execution_count": 8,
   "metadata": {},
   "outputs": [
    {
     "data": {
      "text/plain": [
       "'Thu 13'"
      ]
     },
     "execution_count": 8,
     "metadata": {},
     "output_type": "execute_result"
    }
   ],
   "source": [
    "dayDate[0] = today_day_date\n",
    "dayDate[0]"
   ]
  },
  {
   "cell_type": "code",
   "execution_count": 9,
   "metadata": {},
   "outputs": [
    {
     "name": "stdout",
     "output_type": "stream",
     "text": [
      "Thu 13, Fri 14, Sat 15, Sun 16, Mon 17, Tue 18, Wed 19, Thu 20, Fri 21, Sat 22, Sun 23, Mon 24, Tue 25, Wed 26, Thu 27, "
     ]
    }
   ],
   "source": [
    "for date in dayDate:\n",
    "    print(date, end=', ')"
   ]
  },
  {
   "cell_type": "code",
   "execution_count": 10,
   "metadata": {},
   "outputs": [
    {
     "name": "stdout",
     "output_type": "stream",
     "text": [
      "[13, 14, 15, 16, 17, 18, 19, 20, 21, 22, 23, 24, 25, 26, 27]\n",
      "['Thu', 'Fri', 'Sat', 'Sun', 'Mon', 'Tue', 'Wed', 'Thu', 'Fri', 'Sat', 'Sun', 'Mon', 'Tue', 'Wed', 'Thu']\n"
     ]
    }
   ],
   "source": [
    "dates = []\n",
    "days = []\n",
    "\n",
    "for item in dayDate:\n",
    "    for i in range(len(item)):\n",
    "        if item[i] == ' ':\n",
    "            dates.append(int(item[i+1:]))\n",
    "            days.append(item[:i])\n",
    "print(dates)\n",
    "print(days)"
   ]
  },
  {
   "cell_type": "markdown",
   "metadata": {},
   "source": [
    "### Scraping Humidity separately :"
   ]
  },
  {
   "cell_type": "code",
   "execution_count": 11,
   "metadata": {},
   "outputs": [
    {
     "name": "stdout",
     "output_type": "stream",
     "text": [
      "[61, 47, 49, 37, 44, 30, 36, 28, 36, 47, 62, 59, 72, 58, 68, 57, 63, 48, 55, 39, 45, 35, 40, 33, 38, 30, 37, 30, 38]\n",
      "[61, 49, 44, 36, 36, 62, 72, 68, 63, 55, 45, 40, 38, 37, 38]\n",
      "[47, 37, 30, 28, 47, 59, 58, 57, 48, 39, 35, 33, 30, 30]\n"
     ]
    }
   ],
   "source": [
    "perc = list(soup.find_all(class_='DetailsTable--value--1F3Ze'))\n",
    "cluster = []\n",
    "nightHum = []\n",
    "dayHum = []\n",
    "for item in perc:\n",
    "    for i in item:\n",
    "        for c in range(len(i)):\n",
    "            if i[c]=='%':\n",
    "                num = i[:c]\n",
    "                cluster.append(int(num))\n",
    "\n",
    "for n in range(len(cluster)):\n",
    "    if n%2==0:\n",
    "        nightHum.append(int(cluster[n]))\n",
    "    else:\n",
    "        dayHum.append(int(cluster[n]))\n",
    "print(cluster)\n",
    "print(nightHum)\n",
    "print(dayHum)"
   ]
  },
  {
   "cell_type": "markdown",
   "metadata": {},
   "source": [
    "### Scraping WindSpeed :"
   ]
  },
  {
   "cell_type": "code",
   "execution_count": 12,
   "metadata": {},
   "outputs": [
    {
     "name": "stdout",
     "output_type": "stream",
     "text": [
      "[10, 13, 10, 10, 14, 15, 16, 18, 18, 21, 20, 18, 18, 18, 17]\n"
     ]
    }
   ],
   "source": [
    "w = list(soup.find_all(class_='Wind--windWrapper--1Va1P undefined'))\n",
    "windList = []\n",
    "for item in w:\n",
    "    for wind in item:\n",
    "        for num in range(len(wind)):\n",
    "            if wind[num].isdigit():\n",
    "                if wind[num+1] != ' ':\n",
    "                    windList.append(int(wind[num]+wind[num+1]))\n",
    "print(windList)\n"
   ]
  },
  {
   "cell_type": "code",
   "execution_count": 13,
   "metadata": {},
   "outputs": [
    {
     "name": "stdout",
     "output_type": "stream",
     "text": [
      "[37, 36, 38, 40, 39, 32, 32, 35, 35, 37, 39, 40, 40, 40, 40]\n",
      "[24, 25, 27, 28, 29, 25, 25, 24, 26, 27, 27, 28, 27, 28, 28]\n",
      "[13, 14, 15, 16, 17, 18, 19, 20, 21, 22, 23, 24, 25, 26, 27]\n",
      "['Thu', 'Fri', 'Sat', 'Sun', 'Mon', 'Tue', 'Wed', 'Thu', 'Fri', 'Sat', 'Sun', 'Mon', 'Tue', 'Wed', 'Thu']\n",
      "[10, 13, 10, 10, 14, 15, 16, 18, 18, 21, 20, 18, 18, 18, 17]\n",
      "[47, 37, 30, 28, 47, 59, 58, 57, 48, 39, 35, 33, 30, 30]\n",
      "[61, 49, 44, 36, 36, 62, 72, 68, 63, 55, 45, 40, 38, 37, 38]\n"
     ]
    }
   ],
   "source": [
    "print(TempHighList)\n",
    "print(TempLowList)\n",
    "print(dates)\n",
    "print(days)\n",
    "print(windList)\n",
    "print(dayHum)\n",
    "print(nightHum)"
   ]
  },
  {
   "cell_type": "code",
   "execution_count": 14,
   "metadata": {},
   "outputs": [
    {
     "name": "stdout",
     "output_type": "stream",
     "text": [
      "['Partly Cloudy', 'Partly Cloudy', 'Mostly Sunny', 'Mostly Sunny', 'Partly Cloudy', 'Showers', 'Showers', 'Partly Cloudy', 'Partly Cloudy', 'Mostly Sunny', 'Sunny', 'Sunny', 'Sunny', 'Mostly Sunny', 'Mostly Sunny']\n"
     ]
    }
   ],
   "source": [
    "info = list(soup.select('span.DetailsSummary--extendedData--aaFeV'))\n",
    "infoList = []\n",
    "for item in info:\n",
    "    for content in item:\n",
    "        infoList.append(content)\n",
    "print(infoList)"
   ]
  },
  {
   "cell_type": "code",
   "execution_count": 15,
   "metadata": {},
   "outputs": [
    {
     "data": {
      "text/html": [
       "<div>\n",
       "<style scoped>\n",
       "    .dataframe tbody tr th:only-of-type {\n",
       "        vertical-align: middle;\n",
       "    }\n",
       "\n",
       "    .dataframe tbody tr th {\n",
       "        vertical-align: top;\n",
       "    }\n",
       "\n",
       "    .dataframe thead th {\n",
       "        text-align: right;\n",
       "    }\n",
       "</style>\n",
       "<table border=\"1\" class=\"dataframe\">\n",
       "  <thead>\n",
       "    <tr style=\"text-align: right;\">\n",
       "      <th></th>\n",
       "      <th>Days</th>\n",
       "      <th>Dates</th>\n",
       "      <th>HighestTemp</th>\n",
       "      <th>LowestTemp</th>\n",
       "      <th>WindSpeed</th>\n",
       "      <th>DayHumidity</th>\n",
       "      <th>NightHumidity</th>\n",
       "      <th>Description</th>\n",
       "    </tr>\n",
       "  </thead>\n",
       "  <tbody>\n",
       "    <tr>\n",
       "      <th>0</th>\n",
       "      <td>Thu</td>\n",
       "      <td>13</td>\n",
       "      <td>37</td>\n",
       "      <td>24</td>\n",
       "      <td>10</td>\n",
       "      <td>47</td>\n",
       "      <td>61</td>\n",
       "      <td>Partly Cloudy</td>\n",
       "    </tr>\n",
       "    <tr>\n",
       "      <th>1</th>\n",
       "      <td>Fri</td>\n",
       "      <td>14</td>\n",
       "      <td>36</td>\n",
       "      <td>25</td>\n",
       "      <td>13</td>\n",
       "      <td>37</td>\n",
       "      <td>49</td>\n",
       "      <td>Partly Cloudy</td>\n",
       "    </tr>\n",
       "    <tr>\n",
       "      <th>2</th>\n",
       "      <td>Sat</td>\n",
       "      <td>15</td>\n",
       "      <td>38</td>\n",
       "      <td>27</td>\n",
       "      <td>10</td>\n",
       "      <td>30</td>\n",
       "      <td>44</td>\n",
       "      <td>Mostly Sunny</td>\n",
       "    </tr>\n",
       "    <tr>\n",
       "      <th>3</th>\n",
       "      <td>Sun</td>\n",
       "      <td>16</td>\n",
       "      <td>40</td>\n",
       "      <td>28</td>\n",
       "      <td>10</td>\n",
       "      <td>28</td>\n",
       "      <td>36</td>\n",
       "      <td>Mostly Sunny</td>\n",
       "    </tr>\n",
       "    <tr>\n",
       "      <th>4</th>\n",
       "      <td>Mon</td>\n",
       "      <td>17</td>\n",
       "      <td>39</td>\n",
       "      <td>29</td>\n",
       "      <td>14</td>\n",
       "      <td>47</td>\n",
       "      <td>36</td>\n",
       "      <td>Partly Cloudy</td>\n",
       "    </tr>\n",
       "    <tr>\n",
       "      <th>5</th>\n",
       "      <td>Tue</td>\n",
       "      <td>18</td>\n",
       "      <td>32</td>\n",
       "      <td>25</td>\n",
       "      <td>15</td>\n",
       "      <td>59</td>\n",
       "      <td>62</td>\n",
       "      <td>Showers</td>\n",
       "    </tr>\n",
       "    <tr>\n",
       "      <th>6</th>\n",
       "      <td>Wed</td>\n",
       "      <td>19</td>\n",
       "      <td>32</td>\n",
       "      <td>25</td>\n",
       "      <td>16</td>\n",
       "      <td>58</td>\n",
       "      <td>72</td>\n",
       "      <td>Showers</td>\n",
       "    </tr>\n",
       "    <tr>\n",
       "      <th>7</th>\n",
       "      <td>Thu</td>\n",
       "      <td>20</td>\n",
       "      <td>35</td>\n",
       "      <td>24</td>\n",
       "      <td>18</td>\n",
       "      <td>57</td>\n",
       "      <td>68</td>\n",
       "      <td>Partly Cloudy</td>\n",
       "    </tr>\n",
       "    <tr>\n",
       "      <th>8</th>\n",
       "      <td>Fri</td>\n",
       "      <td>21</td>\n",
       "      <td>35</td>\n",
       "      <td>26</td>\n",
       "      <td>18</td>\n",
       "      <td>48</td>\n",
       "      <td>63</td>\n",
       "      <td>Partly Cloudy</td>\n",
       "    </tr>\n",
       "    <tr>\n",
       "      <th>9</th>\n",
       "      <td>Sat</td>\n",
       "      <td>22</td>\n",
       "      <td>37</td>\n",
       "      <td>27</td>\n",
       "      <td>21</td>\n",
       "      <td>39</td>\n",
       "      <td>55</td>\n",
       "      <td>Mostly Sunny</td>\n",
       "    </tr>\n",
       "    <tr>\n",
       "      <th>10</th>\n",
       "      <td>Sun</td>\n",
       "      <td>23</td>\n",
       "      <td>39</td>\n",
       "      <td>27</td>\n",
       "      <td>20</td>\n",
       "      <td>35</td>\n",
       "      <td>45</td>\n",
       "      <td>Sunny</td>\n",
       "    </tr>\n",
       "    <tr>\n",
       "      <th>11</th>\n",
       "      <td>Mon</td>\n",
       "      <td>24</td>\n",
       "      <td>40</td>\n",
       "      <td>28</td>\n",
       "      <td>18</td>\n",
       "      <td>33</td>\n",
       "      <td>40</td>\n",
       "      <td>Sunny</td>\n",
       "    </tr>\n",
       "    <tr>\n",
       "      <th>12</th>\n",
       "      <td>Tue</td>\n",
       "      <td>25</td>\n",
       "      <td>40</td>\n",
       "      <td>27</td>\n",
       "      <td>18</td>\n",
       "      <td>30</td>\n",
       "      <td>38</td>\n",
       "      <td>Sunny</td>\n",
       "    </tr>\n",
       "    <tr>\n",
       "      <th>13</th>\n",
       "      <td>Wed</td>\n",
       "      <td>26</td>\n",
       "      <td>40</td>\n",
       "      <td>28</td>\n",
       "      <td>18</td>\n",
       "      <td>30</td>\n",
       "      <td>37</td>\n",
       "      <td>Mostly Sunny</td>\n",
       "    </tr>\n",
       "  </tbody>\n",
       "</table>\n",
       "</div>"
      ],
      "text/plain": [
       "   Days  Dates  HighestTemp  LowestTemp  WindSpeed  DayHumidity  \\\n",
       "0   Thu     13           37          24         10           47   \n",
       "1   Fri     14           36          25         13           37   \n",
       "2   Sat     15           38          27         10           30   \n",
       "3   Sun     16           40          28         10           28   \n",
       "4   Mon     17           39          29         14           47   \n",
       "5   Tue     18           32          25         15           59   \n",
       "6   Wed     19           32          25         16           58   \n",
       "7   Thu     20           35          24         18           57   \n",
       "8   Fri     21           35          26         18           48   \n",
       "9   Sat     22           37          27         21           39   \n",
       "10  Sun     23           39          27         20           35   \n",
       "11  Mon     24           40          28         18           33   \n",
       "12  Tue     25           40          27         18           30   \n",
       "13  Wed     26           40          28         18           30   \n",
       "\n",
       "    NightHumidity    Description  \n",
       "0              61  Partly Cloudy  \n",
       "1              49  Partly Cloudy  \n",
       "2              44   Mostly Sunny  \n",
       "3              36   Mostly Sunny  \n",
       "4              36  Partly Cloudy  \n",
       "5              62        Showers  \n",
       "6              72        Showers  \n",
       "7              68  Partly Cloudy  \n",
       "8              63  Partly Cloudy  \n",
       "9              55   Mostly Sunny  \n",
       "10             45          Sunny  \n",
       "11             40          Sunny  \n",
       "12             38          Sunny  \n",
       "13             37   Mostly Sunny  "
      ]
     },
     "execution_count": 15,
     "metadata": {},
     "output_type": "execute_result"
    }
   ],
   "source": [
    "df = pd.DataFrame(list(zip(days, dates, TempHighList, TempLowList, windList, dayHum, nightHum, infoList)), \n",
    "                          columns =['Days', 'Dates', 'HighestTemp', 'LowestTemp', 'WindSpeed', 'DayHumidity', 'NightHumidity',\n",
    "                                    'Description'])\n",
    "df"
   ]
  },
  {
   "cell_type": "markdown",
   "metadata": {},
   "source": [
    "### Adding new columns for better understanding :"
   ]
  },
  {
   "cell_type": "code",
   "execution_count": 16,
   "metadata": {},
   "outputs": [
    {
     "name": "stdout",
     "output_type": "stream",
     "text": [
      "<class 'pandas.core.frame.DataFrame'>\n",
      "RangeIndex: 14 entries, 0 to 13\n",
      "Data columns (total 8 columns):\n",
      " #   Column         Non-Null Count  Dtype \n",
      "---  ------         --------------  ----- \n",
      " 0   Days           14 non-null     object\n",
      " 1   Dates          14 non-null     int64 \n",
      " 2   HighestTemp    14 non-null     int64 \n",
      " 3   LowestTemp     14 non-null     int64 \n",
      " 4   WindSpeed      14 non-null     int64 \n",
      " 5   DayHumidity    14 non-null     int64 \n",
      " 6   NightHumidity  14 non-null     int64 \n",
      " 7   Description    14 non-null     object\n",
      "dtypes: int64(6), object(2)\n",
      "memory usage: 1.0+ KB\n"
     ]
    }
   ],
   "source": [
    "df.info()"
   ]
  },
  {
   "cell_type": "code",
   "execution_count": 17,
   "metadata": {},
   "outputs": [
    {
     "data": {
      "text/html": [
       "<div>\n",
       "<style scoped>\n",
       "    .dataframe tbody tr th:only-of-type {\n",
       "        vertical-align: middle;\n",
       "    }\n",
       "\n",
       "    .dataframe tbody tr th {\n",
       "        vertical-align: top;\n",
       "    }\n",
       "\n",
       "    .dataframe thead th {\n",
       "        text-align: right;\n",
       "    }\n",
       "</style>\n",
       "<table border=\"1\" class=\"dataframe\">\n",
       "  <thead>\n",
       "    <tr style=\"text-align: right;\">\n",
       "      <th></th>\n",
       "      <th>Days</th>\n",
       "      <th>Dates</th>\n",
       "      <th>HighestTemp</th>\n",
       "      <th>LowestTemp</th>\n",
       "      <th>AverageTemp</th>\n",
       "      <th>WindSpeed</th>\n",
       "      <th>DayHumidity</th>\n",
       "      <th>NightHumidity</th>\n",
       "      <th>Description</th>\n",
       "    </tr>\n",
       "  </thead>\n",
       "  <tbody>\n",
       "    <tr>\n",
       "      <th>0</th>\n",
       "      <td>Thu</td>\n",
       "      <td>13</td>\n",
       "      <td>37</td>\n",
       "      <td>24</td>\n",
       "      <td>30</td>\n",
       "      <td>10</td>\n",
       "      <td>47</td>\n",
       "      <td>61</td>\n",
       "      <td>Partly Cloudy</td>\n",
       "    </tr>\n",
       "    <tr>\n",
       "      <th>1</th>\n",
       "      <td>Fri</td>\n",
       "      <td>14</td>\n",
       "      <td>36</td>\n",
       "      <td>25</td>\n",
       "      <td>30</td>\n",
       "      <td>13</td>\n",
       "      <td>37</td>\n",
       "      <td>49</td>\n",
       "      <td>Partly Cloudy</td>\n",
       "    </tr>\n",
       "    <tr>\n",
       "      <th>2</th>\n",
       "      <td>Sat</td>\n",
       "      <td>15</td>\n",
       "      <td>38</td>\n",
       "      <td>27</td>\n",
       "      <td>32</td>\n",
       "      <td>10</td>\n",
       "      <td>30</td>\n",
       "      <td>44</td>\n",
       "      <td>Mostly Sunny</td>\n",
       "    </tr>\n",
       "    <tr>\n",
       "      <th>3</th>\n",
       "      <td>Sun</td>\n",
       "      <td>16</td>\n",
       "      <td>40</td>\n",
       "      <td>28</td>\n",
       "      <td>34</td>\n",
       "      <td>10</td>\n",
       "      <td>28</td>\n",
       "      <td>36</td>\n",
       "      <td>Mostly Sunny</td>\n",
       "    </tr>\n",
       "    <tr>\n",
       "      <th>4</th>\n",
       "      <td>Mon</td>\n",
       "      <td>17</td>\n",
       "      <td>39</td>\n",
       "      <td>29</td>\n",
       "      <td>34</td>\n",
       "      <td>14</td>\n",
       "      <td>47</td>\n",
       "      <td>36</td>\n",
       "      <td>Partly Cloudy</td>\n",
       "    </tr>\n",
       "  </tbody>\n",
       "</table>\n",
       "</div>"
      ],
      "text/plain": [
       "  Days  Dates  HighestTemp  LowestTemp  AverageTemp  WindSpeed  DayHumidity  \\\n",
       "0  Thu     13           37          24           30         10           47   \n",
       "1  Fri     14           36          25           30         13           37   \n",
       "2  Sat     15           38          27           32         10           30   \n",
       "3  Sun     16           40          28           34         10           28   \n",
       "4  Mon     17           39          29           34         14           47   \n",
       "\n",
       "   NightHumidity    Description  \n",
       "0             61  Partly Cloudy  \n",
       "1             49  Partly Cloudy  \n",
       "2             44   Mostly Sunny  \n",
       "3             36   Mostly Sunny  \n",
       "4             36  Partly Cloudy  "
      ]
     },
     "execution_count": 17,
     "metadata": {},
     "output_type": "execute_result"
    }
   ],
   "source": [
    "AverageTemp = []\n",
    "for i in range(len(df['HighestTemp'])):\n",
    "    h_sum = df['HighestTemp'][i]\n",
    "    l_sum = df['LowestTemp'][i]\n",
    "    avg_temp = int((h_sum + l_sum)/2)\n",
    "    AverageTemp.append(avg_temp)\n",
    "AverageTemp = pd.DataFrame(AverageTemp)\n",
    "df.insert(loc=4, column='AverageTemp', value=AverageTemp)\n",
    "df.head()"
   ]
  },
  {
   "cell_type": "code",
   "execution_count": 18,
   "metadata": {},
   "outputs": [
    {
     "data": {
      "text/html": [
       "<div>\n",
       "<style scoped>\n",
       "    .dataframe tbody tr th:only-of-type {\n",
       "        vertical-align: middle;\n",
       "    }\n",
       "\n",
       "    .dataframe tbody tr th {\n",
       "        vertical-align: top;\n",
       "    }\n",
       "\n",
       "    .dataframe thead th {\n",
       "        text-align: right;\n",
       "    }\n",
       "</style>\n",
       "<table border=\"1\" class=\"dataframe\">\n",
       "  <thead>\n",
       "    <tr style=\"text-align: right;\">\n",
       "      <th></th>\n",
       "      <th>Days</th>\n",
       "      <th>Dates</th>\n",
       "      <th>HighestTemp</th>\n",
       "      <th>LowestTemp</th>\n",
       "      <th>AverageTemp</th>\n",
       "      <th>WindSpeed</th>\n",
       "      <th>DayHumidity</th>\n",
       "      <th>NightHumidity</th>\n",
       "      <th>AvgHumidity</th>\n",
       "      <th>Description</th>\n",
       "    </tr>\n",
       "  </thead>\n",
       "  <tbody>\n",
       "    <tr>\n",
       "      <th>0</th>\n",
       "      <td>Thu</td>\n",
       "      <td>13</td>\n",
       "      <td>37</td>\n",
       "      <td>24</td>\n",
       "      <td>30</td>\n",
       "      <td>10</td>\n",
       "      <td>47</td>\n",
       "      <td>61</td>\n",
       "      <td>54</td>\n",
       "      <td>Partly Cloudy</td>\n",
       "    </tr>\n",
       "    <tr>\n",
       "      <th>1</th>\n",
       "      <td>Fri</td>\n",
       "      <td>14</td>\n",
       "      <td>36</td>\n",
       "      <td>25</td>\n",
       "      <td>30</td>\n",
       "      <td>13</td>\n",
       "      <td>37</td>\n",
       "      <td>49</td>\n",
       "      <td>43</td>\n",
       "      <td>Partly Cloudy</td>\n",
       "    </tr>\n",
       "    <tr>\n",
       "      <th>2</th>\n",
       "      <td>Sat</td>\n",
       "      <td>15</td>\n",
       "      <td>38</td>\n",
       "      <td>27</td>\n",
       "      <td>32</td>\n",
       "      <td>10</td>\n",
       "      <td>30</td>\n",
       "      <td>44</td>\n",
       "      <td>37</td>\n",
       "      <td>Mostly Sunny</td>\n",
       "    </tr>\n",
       "    <tr>\n",
       "      <th>3</th>\n",
       "      <td>Sun</td>\n",
       "      <td>16</td>\n",
       "      <td>40</td>\n",
       "      <td>28</td>\n",
       "      <td>34</td>\n",
       "      <td>10</td>\n",
       "      <td>28</td>\n",
       "      <td>36</td>\n",
       "      <td>32</td>\n",
       "      <td>Mostly Sunny</td>\n",
       "    </tr>\n",
       "    <tr>\n",
       "      <th>4</th>\n",
       "      <td>Mon</td>\n",
       "      <td>17</td>\n",
       "      <td>39</td>\n",
       "      <td>29</td>\n",
       "      <td>34</td>\n",
       "      <td>14</td>\n",
       "      <td>47</td>\n",
       "      <td>36</td>\n",
       "      <td>41</td>\n",
       "      <td>Partly Cloudy</td>\n",
       "    </tr>\n",
       "  </tbody>\n",
       "</table>\n",
       "</div>"
      ],
      "text/plain": [
       "  Days  Dates  HighestTemp  LowestTemp  AverageTemp  WindSpeed  DayHumidity  \\\n",
       "0  Thu     13           37          24           30         10           47   \n",
       "1  Fri     14           36          25           30         13           37   \n",
       "2  Sat     15           38          27           32         10           30   \n",
       "3  Sun     16           40          28           34         10           28   \n",
       "4  Mon     17           39          29           34         14           47   \n",
       "\n",
       "   NightHumidity  AvgHumidity    Description  \n",
       "0             61           54  Partly Cloudy  \n",
       "1             49           43  Partly Cloudy  \n",
       "2             44           37   Mostly Sunny  \n",
       "3             36           32   Mostly Sunny  \n",
       "4             36           41  Partly Cloudy  "
      ]
     },
     "execution_count": 18,
     "metadata": {},
     "output_type": "execute_result"
    }
   ],
   "source": [
    "AverageHum = []\n",
    "for i in range(len(df['DayHumidity'])):\n",
    "    d_hum = df['DayHumidity'][i]\n",
    "    n_hum = df['NightHumidity'][i]\n",
    "    avg_hum = int((d_hum + n_hum)/2)\n",
    "    AverageHum.append(avg_hum)\n",
    "AverageHum = pd.DataFrame(AverageHum)\n",
    "df.insert(loc=8, column='AvgHumidity', value=AverageHum)\n",
    "df.head()"
   ]
  },
  {
   "cell_type": "code",
   "execution_count": 19,
   "metadata": {},
   "outputs": [
    {
     "data": {
      "text/html": [
       "<div>\n",
       "<style scoped>\n",
       "    .dataframe tbody tr th:only-of-type {\n",
       "        vertical-align: middle;\n",
       "    }\n",
       "\n",
       "    .dataframe tbody tr th {\n",
       "        vertical-align: top;\n",
       "    }\n",
       "\n",
       "    .dataframe thead th {\n",
       "        text-align: right;\n",
       "    }\n",
       "</style>\n",
       "<table border=\"1\" class=\"dataframe\">\n",
       "  <thead>\n",
       "    <tr style=\"text-align: right;\">\n",
       "      <th></th>\n",
       "      <th>Dates</th>\n",
       "      <th>AverageTemp</th>\n",
       "      <th>WindSpeed</th>\n",
       "      <th>AvgHumidity</th>\n",
       "    </tr>\n",
       "  </thead>\n",
       "  <tbody>\n",
       "    <tr>\n",
       "      <th>0</th>\n",
       "      <td>13</td>\n",
       "      <td>30</td>\n",
       "      <td>10</td>\n",
       "      <td>54</td>\n",
       "    </tr>\n",
       "    <tr>\n",
       "      <th>1</th>\n",
       "      <td>14</td>\n",
       "      <td>30</td>\n",
       "      <td>13</td>\n",
       "      <td>43</td>\n",
       "    </tr>\n",
       "    <tr>\n",
       "      <th>2</th>\n",
       "      <td>15</td>\n",
       "      <td>32</td>\n",
       "      <td>10</td>\n",
       "      <td>37</td>\n",
       "    </tr>\n",
       "    <tr>\n",
       "      <th>3</th>\n",
       "      <td>16</td>\n",
       "      <td>34</td>\n",
       "      <td>10</td>\n",
       "      <td>32</td>\n",
       "    </tr>\n",
       "    <tr>\n",
       "      <th>4</th>\n",
       "      <td>17</td>\n",
       "      <td>34</td>\n",
       "      <td>14</td>\n",
       "      <td>41</td>\n",
       "    </tr>\n",
       "  </tbody>\n",
       "</table>\n",
       "</div>"
      ],
      "text/plain": [
       "   Dates  AverageTemp  WindSpeed  AvgHumidity\n",
       "0     13           30         10           54\n",
       "1     14           30         13           43\n",
       "2     15           32         10           37\n",
       "3     16           34         10           32\n",
       "4     17           34         14           41"
      ]
     },
     "execution_count": 19,
     "metadata": {},
     "output_type": "execute_result"
    }
   ],
   "source": [
    "numeric_df = df.filter(['Dates','AverageTemp',\n",
    "                        'WindSpeed','AvgHumidity'], axis=1)\n",
    "numeric_df.head()"
   ]
  },
  {
   "cell_type": "code",
   "execution_count": 20,
   "metadata": {},
   "outputs": [
    {
     "data": {
      "text/html": [
       "<div>\n",
       "<style scoped>\n",
       "    .dataframe tbody tr th:only-of-type {\n",
       "        vertical-align: middle;\n",
       "    }\n",
       "\n",
       "    .dataframe tbody tr th {\n",
       "        vertical-align: top;\n",
       "    }\n",
       "\n",
       "    .dataframe thead th {\n",
       "        text-align: right;\n",
       "    }\n",
       "</style>\n",
       "<table border=\"1\" class=\"dataframe\">\n",
       "  <thead>\n",
       "    <tr style=\"text-align: right;\">\n",
       "      <th></th>\n",
       "      <th>HighestTemp</th>\n",
       "      <th>LowestTemp</th>\n",
       "      <th>AverageTemp</th>\n",
       "    </tr>\n",
       "  </thead>\n",
       "  <tbody>\n",
       "    <tr>\n",
       "      <th>0</th>\n",
       "      <td>37</td>\n",
       "      <td>24</td>\n",
       "      <td>30</td>\n",
       "    </tr>\n",
       "    <tr>\n",
       "      <th>1</th>\n",
       "      <td>36</td>\n",
       "      <td>25</td>\n",
       "      <td>30</td>\n",
       "    </tr>\n",
       "    <tr>\n",
       "      <th>2</th>\n",
       "      <td>38</td>\n",
       "      <td>27</td>\n",
       "      <td>32</td>\n",
       "    </tr>\n",
       "    <tr>\n",
       "      <th>3</th>\n",
       "      <td>40</td>\n",
       "      <td>28</td>\n",
       "      <td>34</td>\n",
       "    </tr>\n",
       "    <tr>\n",
       "      <th>4</th>\n",
       "      <td>39</td>\n",
       "      <td>29</td>\n",
       "      <td>34</td>\n",
       "    </tr>\n",
       "  </tbody>\n",
       "</table>\n",
       "</div>"
      ],
      "text/plain": [
       "   HighestTemp  LowestTemp  AverageTemp\n",
       "0           37          24           30\n",
       "1           36          25           30\n",
       "2           38          27           32\n",
       "3           40          28           34\n",
       "4           39          29           34"
      ]
     },
     "execution_count": 20,
     "metadata": {},
     "output_type": "execute_result"
    }
   ],
   "source": [
    "temp_df = df.filter(['HighestTemp','LowestTemp','AverageTemp'], axis=1)\n",
    "temp_df.head()"
   ]
  },
  {
   "cell_type": "code",
   "execution_count": 21,
   "metadata": {},
   "outputs": [
    {
     "data": {
      "text/html": [
       "<div>\n",
       "<style scoped>\n",
       "    .dataframe tbody tr th:only-of-type {\n",
       "        vertical-align: middle;\n",
       "    }\n",
       "\n",
       "    .dataframe tbody tr th {\n",
       "        vertical-align: top;\n",
       "    }\n",
       "\n",
       "    .dataframe thead th {\n",
       "        text-align: right;\n",
       "    }\n",
       "</style>\n",
       "<table border=\"1\" class=\"dataframe\">\n",
       "  <thead>\n",
       "    <tr style=\"text-align: right;\">\n",
       "      <th></th>\n",
       "      <th>DayHumidity</th>\n",
       "      <th>NightHumidity</th>\n",
       "      <th>AvgHumidity</th>\n",
       "    </tr>\n",
       "  </thead>\n",
       "  <tbody>\n",
       "    <tr>\n",
       "      <th>0</th>\n",
       "      <td>47</td>\n",
       "      <td>61</td>\n",
       "      <td>54</td>\n",
       "    </tr>\n",
       "    <tr>\n",
       "      <th>1</th>\n",
       "      <td>37</td>\n",
       "      <td>49</td>\n",
       "      <td>43</td>\n",
       "    </tr>\n",
       "    <tr>\n",
       "      <th>2</th>\n",
       "      <td>30</td>\n",
       "      <td>44</td>\n",
       "      <td>37</td>\n",
       "    </tr>\n",
       "    <tr>\n",
       "      <th>3</th>\n",
       "      <td>28</td>\n",
       "      <td>36</td>\n",
       "      <td>32</td>\n",
       "    </tr>\n",
       "    <tr>\n",
       "      <th>4</th>\n",
       "      <td>47</td>\n",
       "      <td>36</td>\n",
       "      <td>41</td>\n",
       "    </tr>\n",
       "  </tbody>\n",
       "</table>\n",
       "</div>"
      ],
      "text/plain": [
       "   DayHumidity  NightHumidity  AvgHumidity\n",
       "0           47             61           54\n",
       "1           37             49           43\n",
       "2           30             44           37\n",
       "3           28             36           32\n",
       "4           47             36           41"
      ]
     },
     "execution_count": 21,
     "metadata": {},
     "output_type": "execute_result"
    }
   ],
   "source": [
    "hum_df = df.filter(['DayHumidity','NightHumidity','AvgHumidity'], axis=1)\n",
    "hum_df.head()"
   ]
  },
  {
   "cell_type": "markdown",
   "metadata": {},
   "source": [
    "### Visualizing the data with Seaborn :"
   ]
  },
  {
   "cell_type": "code",
   "execution_count": 22,
   "metadata": {},
   "outputs": [
    {
     "data": {
      "image/png": "[encoded data removed]",
      "text/plain": [
       "<Figure size 576x432 with 1 Axes>"
      ]
     },
     "metadata": {
      "needs_background": "light"
     },
     "output_type": "display_data"
    }
   ],
   "source": [
    "plt.figure(figsize=(8,6))\n",
    "sns.barplot(data=df, x='Dates', y='AverageTemp')\n",
    "plt.title('Dates vs Temperatures')\n",
    "plt.show()"
   ]
  },
  {
   "cell_type": "code",
   "execution_count": 23,
   "metadata": {},
   "outputs": [
    {
     "data": {
      "image/png": "[encoded data removed]",
      "text/plain": [
       "<Figure size 576x432 with 1 Axes>"
      ]
     },
     "metadata": {
      "needs_background": "light"
     },
     "output_type": "display_data"
    }
   ],
   "source": [
    "plt.figure(figsize=(8,6))\n",
    "sns.barplot(data=df, x='Dates', y='AvgHumidity')\n",
    "plt.title('Dates vs Humidites')\n",
    "plt.show()"
   ]
  },
  {
   "cell_type": "code",
   "execution_count": 24,
   "metadata": {},
   "outputs": [
    {
     "data": {
      "image/png": "[encoded data removed]",
      "text/plain": [
       "<Figure size 576x432 with 1 Axes>"
      ]
     },
     "metadata": {
      "needs_background": "light"
     },
     "output_type": "display_data"
    }
   ],
   "source": [
    "plt.figure(figsize=(8,6))\n",
    "sns.histplot(data=df, x='Description', hue='Days', multiple='stack')\n",
    "plt.title('Description Count')\n",
    "plt.show()"
   ]
  },
  {
   "cell_type": "code",
   "execution_count": 25,
   "metadata": {},
   "outputs": [
    {
     "data": {
      "image/png": "[encoded data removed]",
      "text/plain": [
       "<Figure size 576x576 with 2 Axes>"
      ]
     },
     "metadata": {
      "needs_background": "light"
     },
     "output_type": "display_data"
    }
   ],
   "source": [
    "plt.figure(figsize=(8,8))\n",
    "sns.heatmap(data=numeric_df, center=0, cmap='turbo_r')\n",
    "plt.title('Numeric Heatmap')\n",
    "plt.show()"
   ]
  },
  {
   "cell_type": "code",
   "execution_count": 26,
   "metadata": {},
   "outputs": [
    {
     "data": {
      "image/png": "[encoded data removed]",
      "text/plain": [
       "<Figure size 576x432 with 1 Axes>"
      ]
     },
     "metadata": {
      "needs_background": "light"
     },
     "output_type": "display_data"
    }
   ],
   "source": [
    "plt.figure(figsize=(8,6))\n",
    "sns.boxplot(data=temp_df)\n",
    "plt.title('Temperature Variance')\n",
    "plt.show()"
   ]
  },
  {
   "cell_type": "code",
   "execution_count": 27,
   "metadata": {},
   "outputs": [
    {
     "data": {
      "image/png": "[encoded data removed]",
      "text/plain": [
       "<Figure size 576x432 with 1 Axes>"
      ]
     },
     "metadata": {
      "needs_background": "light"
     },
     "output_type": "display_data"
    }
   ],
   "source": [
    "plt.figure(figsize=(8,6))\n",
    "sns.boxplot(data=hum_df)\n",
    "plt.title('Humidity Variance')\n",
    "plt.show()"
   ]
  },
  {
   "cell_type": "markdown",
   "metadata": {},
   "source": [
    "### Conclusion :\n",
    "* Visualizations help us understand the trends in various factors.\n",
    "* With that, one can also understand how factors directly impact the end result.\n",
    "* Hence, the Weather-Scraper does as it says with an addition of visualizations."
   ]
  }
 ],
 "metadata": {
  "kernelspec": {
   "display_name": "Python 3",
   "language": "python",
   "name": "python3"
  },
  "language_info": {
   "codemirror_mode": {
    "name": "ipython",
    "version": 3
   },
   "file_extension": ".py",
   "mimetype": "text/x-python",
   "name": "python",
   "nbconvert_exporter": "python",
   "pygments_lexer": "ipython3",
   "version": "3.8.5"
  }
 },
 "nbformat": 4,
 "nbformat_minor": 4
}
